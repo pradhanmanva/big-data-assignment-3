{
 "cells": [
  {
   "cell_type": "code",
   "execution_count": 2,
   "metadata": {},
   "outputs": [],
   "source": [
    "#importing the classes and functions\n",
    "from math import sqrt\n",
    "import numpy as np\n",
    "from numpy import array\n",
    "import pyspark\n",
    "from pyspark import *\n",
    "from pyspark.conf import *\n",
    "from pyspark.sql import *\n",
    "from pyspark.mllib.linalg import Vectors\n",
    "\n",
    "#setting the string variables\n",
    "app_name = 'Glass Data'\n",
    "master = 'local'\n",
    "\n",
    "#setting the data file for glassdat\n",
    "glassdata_path = 'glass.data'"
   ]
  },
  {
   "cell_type": "code",
   "execution_count": 3,
   "metadata": {},
   "outputs": [],
   "source": [
    "#configuring the Spark and setting the master & app name\n",
    "spark = SparkConf().setAppName(app_name).setMaster(master)\n",
    "sc = SparkContext(conf=spark)"
   ]
  },
  {
   "cell_type": "code",
   "execution_count": null,
   "metadata": {},
   "outputs": [],
   "source": []
  }
 ],
 "metadata": {
  "kernelspec": {
   "display_name": "Python 3",
   "language": "python",
   "name": "python3"
  },
  "language_info": {
   "codemirror_mode": {
    "name": "ipython",
    "version": 3
   },
   "file_extension": ".py",
   "mimetype": "text/x-python",
   "name": "python",
   "nbconvert_exporter": "python",
   "pygments_lexer": "ipython3",
   "version": "3.6.6"
  }
 },
 "nbformat": 4,
 "nbformat_minor": 2
}
