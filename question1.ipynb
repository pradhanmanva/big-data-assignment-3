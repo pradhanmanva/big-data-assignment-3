{
 "cells": [
  {
   "cell_type": "code",
   "execution_count": 1,
   "metadata": {},
   "outputs": [],
   "source": [
    "#importing the classes and functions\n",
    "from math import sqrt\n",
    "import numpy as np\n",
    "from numpy import array\n",
    "import pyspark\n",
    "from pyspark import *\n",
    "from pyspark.conf import *\n",
    "from pyspark.sql import *\n",
    "from pyspark.mllib.linalg import Vectors\n",
    "from pyspark.mllib.clustering import KMeans"
   ]
  },
  {
   "cell_type": "code",
   "execution_count": 2,
   "metadata": {},
   "outputs": [],
   "source": [
    "#setting the string variables\n",
    "app_name = 'Item-User Matrix'\n",
    "master = 'local'\n",
    "\n",
    "#setting the data file for item-user matrix and num of clusters\n",
    "itemusermatdata_path = 'itemusermat.data'\n",
    "num_cluster = 10\n",
    "\n",
    "#setting the data file for movies\n",
    "moviesdata_path = 'movies.data'"
   ]
  },
  {
   "cell_type": "code",
   "execution_count": 3,
   "metadata": {},
   "outputs": [],
   "source": [
    "#configuring the Spark and setting the master & app name\n",
    "spark = SparkConf().setAppName(app_name).setMaster(master)\n",
    "sc = SparkContext(conf=spark)"
   ]
  },
  {
   "cell_type": "code",
   "execution_count": 4,
   "metadata": {},
   "outputs": [],
   "source": [
    "def movies_line_mapper(line):\n",
    "    data = line.split('::')\n",
    "    data[0] = float(data[0])\n",
    "    data[2] = data[2].split('|')\n",
    "    genre = ''\n",
    "    for i in data[2]:\n",
    "        genre += i + ', '\n",
    "    genre = genre[:-2]\n",
    "    data[2] = genre\n",
    "    return (data[0], data[1:])\n",
    "\n",
    "def itemuser_mat_mapper(line):\n",
    "    data = line.split(' ')\n",
    "    n = len(data)\n",
    "    \n",
    "    for i in range(n):\n",
    "        data[i] = float(data[i])\n",
    "    return data"
   ]
  },
  {
   "cell_type": "code",
   "execution_count": 5,
   "metadata": {},
   "outputs": [],
   "source": [
    "# Load and parse the data --> Item-User Matrix Data\n",
    "itemuser_data_rdd = sc.textFile(itemusermatdata_path)\n",
    "parsed_itemuser_data = itemuser_data_rdd.map(itemuser_mat_mapper)\n",
    "\n",
    "data=parsed_itemuser_data.collect()\n",
    "# print(len(data))\n",
    "# for i in range(1):\n",
    "#     print(data[i])\n",
    "    \n",
    "# Load and parse the data --> Movies Data\n",
    "moviesdata_rdd = sc.textFile(moviesdata_path)\n",
    "parsed_movies_data = moviesdata_rdd.map(movies_line_mapper)\n",
    "\n",
    "data = parsed_movies_data.collect()\n",
    "# print(len(data))\n",
    "# for i in range(1):\n",
    "#     print(data[i])"
   ]
  },
  {
   "cell_type": "code",
   "execution_count": 6,
   "metadata": {},
   "outputs": [],
   "source": [
    "# Build the model (cluster the data)\n",
    "kmeansModel = KMeans.train(parsed_itemuser_data, num_cluster, maxIterations=500)\n",
    "\n",
    "#get cluster number for each data data point\n",
    "predicted_data = kmeansModel.predict(parsed_itemuser_data)"
   ]
  },
  {
   "cell_type": "code",
   "execution_count": 7,
   "metadata": {},
   "outputs": [],
   "source": [
    "#combine the prediction with the itemuser_data that is already zipped \n",
    "def combine_rdds_mapper(x):\n",
    "    temp = np.append(x[0],x[1])\n",
    "    return (temp[0], temp[-1])\n",
    "\n",
    "itemuser_prediction_rdd = parsed_itemuser_data.zip(predicted_data).map(combine_rdds_mapper)"
   ]
  },
  {
   "cell_type": "code",
   "execution_count": 8,
   "metadata": {},
   "outputs": [],
   "source": [
    "combined_data_rdd = itemuser_prediction_rdd.join(parsed_movies_data).map(lambda line : (line[0], line[1][0], line[1][1]))"
   ]
  },
  {
   "cell_type": "code",
   "execution_count": 9,
   "metadata": {},
   "outputs": [],
   "source": [
    "final_data_rdd = combined_data_rdd.groupBy(lambda line : line[1]).sortByKey(True).map(lambda line:(line[0], list(line[1])[1:6]))\n",
    "with open('question1_3.txt','w') as f:\n",
    "    for i in final_data_rdd.take(10):\n",
    "        f.write('Cluster ' + str(int(i[0])+1) + '\\n')\n",
    "        for j in i[1]:\n",
    "            f.write(str(int(j[0])) + ' ' + j[2][0] + ' ' + j[2][1] + '\\n')\n",
    "        f.write('\\n\\n\\n')\n",
    "f.close()"
   ]
  },
  {
   "cell_type": "code",
   "execution_count": null,
   "metadata": {},
   "outputs": [],
   "source": []
  }
 ],
 "metadata": {
  "kernelspec": {
   "display_name": "Python 3",
   "language": "python",
   "name": "python3"
  },
  "language_info": {
   "codemirror_mode": {
    "name": "ipython",
    "version": 3
   },
   "file_extension": ".py",
   "mimetype": "text/x-python",
   "name": "python",
   "nbconvert_exporter": "python",
   "pygments_lexer": "ipython3",
   "version": "3.6.6"
  }
 },
 "nbformat": 4,
 "nbformat_minor": 1
}
