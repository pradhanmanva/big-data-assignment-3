{
 "cells": [
  {
   "cell_type": "code",
   "execution_count": 1,
   "metadata": {},
   "outputs": [],
   "source": [
    "#importing the classes and functions\n",
    "from pyspark import *\n",
    "from pyspark.conf import *\n",
    "from pyspark.mllib.evaluation import MulticlassMetrics\n",
    "from pyspark.mllib.regression import LabeledPoint\n",
    "from pyspark.mllib.tree import DecisionTree\n",
    "from pyspark.mllib.classification import NaiveBayes\n",
    "\n",
    "#setting the string variables\n",
    "app_name = 'Glass Data'\n",
    "master = 'local'\n",
    "\n",
    "#setting the data file for glassdat\n",
    "glassdata_path = 'glass.data'"
   ]
  },
  {
   "cell_type": "code",
   "execution_count": 2,
   "metadata": {},
   "outputs": [],
   "source": [
    "#configuring the Spark and setting the master & app name\n",
    "spark = SparkConf().setAppName(app_name).setMaster(master)\n",
    "sc = SparkContext(conf=spark)"
   ]
  },
  {
   "cell_type": "code",
   "execution_count": 3,
   "metadata": {},
   "outputs": [],
   "source": [
    "def data_mapper(line):\n",
    "    temp = line.split(',')\n",
    "    n = len(temp)\n",
    "    for i in range(n-1):\n",
    "        temp[i] = float(temp[i])\n",
    "    temp[n-1] = float(temp[n-1])-1\n",
    "    return LabeledPoint(temp[n-1], temp[:n-1]) "
   ]
  },
  {
   "cell_type": "code",
   "execution_count": 4,
   "metadata": {},
   "outputs": [],
   "source": [
    "glassdata_rdd = sc.textFile(glassdata_path).map(data_mapper)\n",
    "training, testing = glassdata_rdd.randomSplit(weights=[0.6, 0.4])"
   ]
  },
  {
   "cell_type": "code",
   "execution_count": 5,
   "metadata": {},
   "outputs": [
    {
     "name": "stdout",
     "output_type": "stream",
     "text": [
      "DecisionTreeModel classifier of depth 5 with 19 nodes\n",
      "  If (feature 0 <= 68.5)\n",
      "   Predict: 0.0\n",
      "  Else (feature 0 > 68.5)\n",
      "   If (feature 0 <= 145.5)\n",
      "    If (feature 0 <= 73.5)\n",
      "     If (feature 1 <= 1.5184950000000002)\n",
      "      Predict: 1.0\n",
      "     Else (feature 1 > 1.5184950000000002)\n",
      "      Predict: 0.0\n",
      "    Else (feature 0 > 73.5)\n",
      "     Predict: 1.0\n",
      "   Else (feature 0 > 145.5)\n",
      "    If (feature 0 <= 183.5)\n",
      "     If (feature 0 <= 164.0)\n",
      "      If (feature 6 <= 0.595)\n",
      "       Predict: 2.0\n",
      "      Else (feature 6 > 0.595)\n",
      "       Predict: 1.0\n",
      "     Else (feature 0 > 164.0)\n",
      "      If (feature 2 <= 13.45)\n",
      "       Predict: 4.0\n",
      "      Else (feature 2 > 13.45)\n",
      "       Predict: 5.0\n",
      "    Else (feature 0 > 183.5)\n",
      "     If (feature 4 <= 0.665)\n",
      "      Predict: 5.0\n",
      "     Else (feature 4 > 0.665)\n",
      "      Predict: 6.0\n",
      "\n"
     ]
    }
   ],
   "source": [
    "decision_tree_model = DecisionTree.trainClassifier(training, 7, {})\n",
    "print(decision_tree_model.toDebugString())"
   ]
  },
  {
   "cell_type": "code",
   "execution_count": 6,
   "metadata": {},
   "outputs": [],
   "source": [
    "decision_tree_predictions_rdd = decision_tree_model.predict(testing.map(lambda x : x.features))"
   ]
  },
  {
   "cell_type": "code",
   "execution_count": 7,
   "metadata": {},
   "outputs": [
    {
     "name": "stdout",
     "output_type": "stream",
     "text": [
      "Accuracy of the model is 95.3125%.\n"
     ]
    }
   ],
   "source": [
    "dt_prep_data = decision_tree_predictions_rdd.zip(testing.map(lambda x : x.label))\n",
    "dt_metrics = MulticlassMetrics(dt_prep_data)\n",
    "dt_accuracy = dt_metrics.accuracy * 100\n",
    "\n",
    "print(\"Accuracy of the model is \" + str(dt_accuracy) + \"%.\")"
   ]
  },
  {
   "cell_type": "code",
   "execution_count": 17,
   "metadata": {},
   "outputs": [],
   "source": [
    "naive_bayes_model = NaiveBayes.train(training)"
   ]
  },
  {
   "cell_type": "code",
   "execution_count": 18,
   "metadata": {},
   "outputs": [
    {
     "name": "stdout",
     "output_type": "stream",
     "text": [
      "model accuracy 0.875\n"
     ]
    }
   ],
   "source": [
    "naive_bayes_predictions_labels = testing.map(lambda p: (naive_bayes_model.predict(p.features), p.label))\n",
    "accuracy = 1.0 * naive_bayes_predictions_labels.filter(lambda pl: pl[0] == pl[1]).count() / testing.count()\n",
    "print('model accuracy {}'.format(accuracy))"
   ]
  }
 ],
 "metadata": {
  "kernelspec": {
   "display_name": "Python 3",
   "language": "python",
   "name": "python3"
  },
  "language_info": {
   "codemirror_mode": {
    "name": "ipython",
    "version": 3
   },
   "file_extension": ".py",
   "mimetype": "text/x-python",
   "name": "python",
   "nbconvert_exporter": "python",
   "pygments_lexer": "ipython3",
   "version": "3.6.6"
  }
 },
 "nbformat": 4,
 "nbformat_minor": 2
}
