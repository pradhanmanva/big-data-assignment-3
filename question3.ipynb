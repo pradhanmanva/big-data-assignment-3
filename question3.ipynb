{
 "cells": [
  {
   "cell_type": "code",
   "execution_count": 1,
   "metadata": {},
   "outputs": [],
   "source": [
    "from pyspark import SparkConf, SparkContext\n",
    "from pyspark.mllib.evaluation import RegressionMetrics\n",
    "from pyspark.mllib.recommendation import ALS, Rating"
   ]
  },
  {
   "cell_type": "code",
   "execution_count": 2,
   "metadata": {},
   "outputs": [],
   "source": [
    "#setting data path and app name\n",
    "ratings_path = 'ratings.data'\n",
    "app_name = 'Ratings ALS'\n",
    "master = 'local'"
   ]
  },
  {
   "cell_type": "code",
   "execution_count": 3,
   "metadata": {},
   "outputs": [],
   "source": [
    "#configuring the Spark and setting the master & app name\n",
    "spark = SparkConf().setAppName(app_name).setMaster(master)\n",
    "sc = SparkContext(conf=spark)"
   ]
  },
  {
   "cell_type": "code",
   "execution_count": 4,
   "metadata": {},
   "outputs": [],
   "source": [
    "def parse_rating_mapper(line):\n",
    "    temp = line.split('::')\n",
    "    return Rating(int(temp[0]), int(temp[1]), float(temp[2]))"
   ]
  },
  {
   "cell_type": "code",
   "execution_count": 5,
   "metadata": {},
   "outputs": [],
   "source": [
    "ratings = sc.textFile(ratings_path).map(parse_rating_mapper)\n",
    "training, testing = ratings.randomSplit(weights=[0.6, 0.4])"
   ]
  },
  {
   "cell_type": "code",
   "execution_count": 6,
   "metadata": {},
   "outputs": [
    {
     "name": "stdout",
     "output_type": "stream",
     "text": [
      "For rank = 1, RMSE = 0.9162038719017604.\n",
      "For rank = 2, RMSE = 0.8949911144234158.\n",
      "For rank = 3, RMSE = 0.8957529421713767.\n",
      "For rank = 4, RMSE = 0.8965831280132744.\n",
      "For rank = 5, RMSE = 0.9041956646127195.\n",
      "For rank = 6, RMSE = 0.902538067343964.\n",
      "For rank = 7, RMSE = 0.9143671966972281.\n",
      "For rank = 8, RMSE = 0.9131753654694478.\n",
      "For rank = 9, RMSE = 0.9202111986771839.\n"
     ]
    }
   ],
   "source": [
    "for i in range(1,10):\n",
    "    als_model = ALS.train(training, rank=i)\n",
    "    testing_data = testing.map(lambda x : (x[0], x[1]))\n",
    "    predictions_data = als_model.predictAll(testing_data).map(lambda x : ((x[0],x[1]),x[2]))\n",
    "    ratings_predictions_data = predictions_data.join(testing.map(lambda r: ((r[0], r[1]), r[2])))\n",
    "    prep_data = ratings_predictions_data.map(lambda r: r[1])\n",
    "    metrics = RegressionMetrics(prep_data)\n",
    "    rmse = metrics.rootMeanSquaredError\n",
    "    print('For rank = ' + str(i) + ', RMSE = ' + str(rmse) + '.')"
   ]
  }
 ],
 "metadata": {
  "kernelspec": {
   "display_name": "Python 3",
   "language": "python",
   "name": "python3"
  },
  "language_info": {
   "codemirror_mode": {
    "name": "ipython",
    "version": 3
   },
   "file_extension": ".py",
   "mimetype": "text/x-python",
   "name": "python",
   "nbconvert_exporter": "python",
   "pygments_lexer": "ipython3",
   "version": "3.6.6"
  }
 },
 "nbformat": 4,
 "nbformat_minor": 2
}
